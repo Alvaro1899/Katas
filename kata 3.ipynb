{
 "cells": [
  {
   "cell_type": "code",
   "execution_count": 25,
   "metadata": {},
   "outputs": [
    {
     "name": "stdout",
     "output_type": "stream",
     "text": [
      "Ingrese velocidad del asterioide\n",
      "Ingrese el dinametro aproximado del asteroide\n",
      "Analizando...\n",
      "Adevertencia, el asteroide es pequeño pero va muy rapido¡\n"
     ]
    }
   ],
   "source": [
    "print(\"Ingrese velocidad del asterioide\")\n",
    "velo = int(input(\"Velocidad estimada\"))\n",
    "print(\"Ingrese el dinametro aproximado del asteroide\")\n",
    "dim = int(input(\"Dimetro del asteroide\"))\n",
    "print(\"Analizando...\")\n",
    "if velo>25 and dim>25 and dim<100:\n",
    "    print(\"Impacto inminente, !Salvese quien pueda¡\")\n",
    "elif velo<=25:\n",
    "    if velo>=20 and dim<25:\n",
    "        print(\"!Puede ver un asteroide que se dirige a la tierra a una velocidad de \" + str(velo) + \" km/s\")\n",
    "    elif dim>25:\n",
    "        print(\"!Cuidado¡ Probable impacto inminente\")\n",
    "    else:\n",
    "        print(\"!Hay un asteroide que se dirige a la tierra a una velocidad de \" + str(velo) + \" km/s!, pero no se ve..\")\n",
    "elif velo>25 and dim<25:\n",
    "    print(\"!Adevertencia, el asteroide es pequeño pero va muy rapido¡\")\n"
   ]
  }
 ],
 "metadata": {
  "interpreter": {
   "hash": "7050faed1200ade135b7d7beab2cf226877431b6724c1f9c588ed762c5f2d5fe"
  },
  "kernelspec": {
   "display_name": "Python 3.10.2 64-bit",
   "language": "python",
   "name": "python3"
  },
  "language_info": {
   "codemirror_mode": {
    "name": "ipython",
    "version": 3
   },
   "file_extension": ".py",
   "mimetype": "text/x-python",
   "name": "python",
   "nbconvert_exporter": "python",
   "pygments_lexer": "ipython3",
   "version": "3.10.2"
  },
  "orig_nbformat": 4
 },
 "nbformat": 4,
 "nbformat_minor": 2
}
