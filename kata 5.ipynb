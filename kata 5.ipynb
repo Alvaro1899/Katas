{
 "cells": [
  {
   "cell_type": "markdown",
   "metadata": {},
   "source": [
    "# Kata 5"
   ]
  },
  {
   "cell_type": "code",
   "execution_count": 1,
   "metadata": {},
   "outputs": [],
   "source": [
    "from math import ceil, floor"
   ]
  },
  {
   "cell_type": "code",
   "execution_count": 7,
   "metadata": {},
   "outputs": [
    {
     "name": "stdout",
     "output_type": "stream",
     "text": [
      "Iniciando calculadora de distancias estelares\n",
      "¿Cuál es tu primer planeta?\n",
      "Escribe su distancia respecto del sol\n",
      "¿Cuál es tu segundo planeta planeta?\n",
      "Escribe su distancia respecto del sol\n",
      "Calculando...\n",
      "La distancia entre el plantena Tierra y el planeta Júpiter es: 628949330.0 kms o 687825276781.2999 yrds.\n"
     ]
    }
   ],
   "source": [
    "print(\"Iniciando calculadora de distancias estelares\")\n",
    "print(\"¿Cuál es tu primer planeta?\")\n",
    "planeta_1 = str(input(\"Nombre\"))\n",
    "print(\"Escribe su distancia respecto del sol\")\n",
    "dplaneta_1 = float(input(\"Distancia respecto del sol\"))\n",
    "print(\"¿Cuál es tu segundo planeta planeta?\")\n",
    "planeta_2 = str(input(\"Nombre\"))\n",
    "print(\"Escribe su distancia respecto del sol\")\n",
    "dplaneta_2 = float(input(\"Distancia respecto del sol\"))\n",
    "print(\"Calculando...\")\n",
    "distancia = abs(dplaneta_1-dplaneta_2)\n",
    "distancia2 = abs(distancia * 1093.61)\n",
    "print(\"La distancia entre el plantena \" + planeta_1 + \" y el planeta \" + planeta_2 + \" es: \" + str(distancia) +\" kms o \" + str(distancia2) +\" yrds.\")\n"
   ]
  },
  {
   "cell_type": "markdown",
   "metadata": {},
   "source": [
    "### Operadores aritméticos en Python\n",
    "Python proporciona operadores aritméticos comunes para que puedas realizar operaciones matemáticas en tu código. Estos incluyen las cuatro operaciones principales de suma, resta, multiplicación y división.\n",
    "\n",
    "Exploremos cómo podemos crear un programa que pueda calcular la distancia entre dos planetas.  Comenzaremos usando dos distancias de planetas: Tierra (149.597.870 km) y Júpiter (778.547.200 km).\n",
    "\n",
    "> **TIP**\n",
    "> Dedica unos minutos a tratar de encontrar una solución. Luego desplázate hacia abajo hasta la parte inferior para ver si has logrado compilar el programa de acuerdo con las especificaciones.\n",
    "\n",
    "**Nota:** Quita las comas cuando uses los valores."
   ]
  }
 ],
 "metadata": {
  "interpreter": {
   "hash": "7050faed1200ade135b7d7beab2cf226877431b6724c1f9c588ed762c5f2d5fe"
  },
  "kernelspec": {
   "display_name": "Python 3.10.2 64-bit",
   "language": "python",
   "name": "python3"
  },
  "language_info": {
   "codemirror_mode": {
    "name": "ipython",
    "version": 3
   },
   "file_extension": ".py",
   "mimetype": "text/x-python",
   "name": "python",
   "nbconvert_exporter": "python",
   "pygments_lexer": "ipython3",
   "version": "3.10.2"
  },
  "orig_nbformat": 4
 },
 "nbformat": 4,
 "nbformat_minor": 2
}
