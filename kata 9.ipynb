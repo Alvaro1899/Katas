{
 "cells": [
  {
   "cell_type": "markdown",
   "metadata": {},
   "source": [
    "# Kata 9\n",
    "#### Ejercicio 1"
   ]
  },
  {
   "cell_type": "code",
   "execution_count": 13,
   "metadata": {},
   "outputs": [
    {
     "name": "stdout",
     "output_type": "stream",
     "text": [
      "Tiene un promedio de combustible de: 65.33333333333333\n",
      "     Tanque 1: 45 lt\n",
      "     Tanque 2: 53 lt\n",
      "     Tanque 3: 98 lt\n",
      "    \n"
     ]
    }
   ],
   "source": [
    "# Función para leer 3 tanques de combustible y muestre el promedio\n",
    "Tanque1 = int(input(\"Cantidad de combustible\"))\n",
    "Tanque2 = int(input(\"Cantidad de combustible\"))\n",
    "Tanque3 = int(input(\"Cantidad de combustible\"))\n",
    "def combustible(tanque1, tanque2, tanque3):\n",
    "    promedio = ((tanque1 +tanque2+ tanque3)/3)\n",
    "    return f\"\"\"Tiene un promedio de combustible de: {promedio} lt\n",
    "     Tanque 1: {tanque1} lt\n",
    "     Tanque 2: {tanque2} lt\n",
    "     Tanque 3: {tanque3} lt\n",
    "    \"\"\"\n",
    "print(combustible(Tanque1,Tanque2,Tanque3))"
   ]
  },
  {
   "cell_type": "code",
   "execution_count": 15,
   "metadata": {},
   "outputs": [
    {
     "data": {
      "text/plain": [
       "65.33333333333333"
      ]
     },
     "execution_count": 15,
     "metadata": {},
     "output_type": "execute_result"
    }
   ],
   "source": [
    "# Función promedio \n",
    "def average(values):\n",
    "    total = sum(values)\n",
    "    number_of_items = len(values)\n",
    "    return total / number_of_items\n",
    "\n",
    "average([Tanque1,Tanque2,Tanque3]) "
   ]
  },
  {
   "cell_type": "code",
   "execution_count": 18,
   "metadata": {},
   "outputs": [
    {
     "name": "stdout",
     "output_type": "stream",
     "text": [
      "Tiene un promedio de combustible de: 15.0 lt\n",
      "     Tanque 1: 15 lt\n",
      "     Tanque 2: 10 lt\n",
      "     Tanque 3: 20 lt\n",
      "    \n"
     ]
    }
   ],
   "source": [
    "Tanque1 = int(input(\"Cantidad de combustible\"))\n",
    "Tanque2 = int(input(\"Cantidad de combustible\"))\n",
    "Tanque3 = int(input(\"Cantidad de combustible\"))\n",
    "def combustible(tanque1, tanque2, tanque3):\n",
    "    return f\"\"\"Tiene un promedio de combustible de: {average([tanque1, tanque2, tanque3])} lt\n",
    "     Tanque 1: {tanque1} lt\n",
    "     Tanque 2: {tanque2} lt\n",
    "     Tanque 3: {tanque3} lt\n",
    "    \"\"\"\n",
    "print(combustible(Tanque1,Tanque2,Tanque3))"
   ]
  },
  {
   "cell_type": "markdown",
   "metadata": {},
   "source": [
    "#### Ejercicio 2"
   ]
  },
  {
   "cell_type": "code",
   "execution_count": 20,
   "metadata": {},
   "outputs": [
    {
     "name": "stdout",
     "output_type": "stream",
     "text": [
      "\n",
      "    Mision a: Luna\n",
      "    Tiempo total de vuelo: 64 minutos\n",
      "    Combustible disponible: 50000 litros\n",
      "    \n"
     ]
    }
   ],
   "source": [
    "# Función con un informe preciso de la misión. Considera hora de prelanzamiento, \n",
    "# tiempo de vuelo, destino, tanque externo y tanque interno\n",
    "Hora_de_salida = int(input(\"Hora de salida\"))\n",
    "Tiempo_de_vuelo = int(input(\"Tiempo de vuelo\"))\n",
    "destino = input(\"Destino\")\n",
    "tanque_ext = int(input(\"Cantidad en litros\"))\n",
    "tanque_int = int(input(\"Cantidad en litros\"))\n",
    "\n",
    "def mission_report(Hora_de_salida,Tiempo_de_vuelo,destino,tanque_ext,tanque_int):\n",
    "    return f\"\"\"\n",
    "    Mision a: {destino}\n",
    "    Tiempo total de vuelo: {Hora_de_salida + Tiempo_de_vuelo} minutos\n",
    "    Combustible disponible: {tanque_ext + tanque_int} litros\n",
    "    \"\"\"\n",
    "\n",
    "print(mission_report(Hora_de_salida,Tiempo_de_vuelo,destino,tanque_ext,tanque_int))"
   ]
  },
  {
   "cell_type": "code",
   "execution_count": 25,
   "metadata": {},
   "outputs": [
    {
     "name": "stdout",
     "output_type": "stream",
     "text": [
      "\n",
      "    Mission to Luna\n",
      "    Total travel time: 90 minutes\n",
      "    Total fuel left: 150000\n",
      "    \n"
     ]
    }
   ],
   "source": [
    "def mission_report(destino, *minutos, **combustible):\n",
    "    return f\"\"\"\n",
    "    Mission to {destino}\n",
    "    Total travel time: {sum(minutos)} minutes\n",
    "    Total fuel left: {sum(combustible.values())}\n",
    "    \"\"\"\n",
    "\n",
    "print(mission_report(\"Luna\", 15, 25, 50, tanque_int=50000, tanque_ext = 100000))"
   ]
  },
  {
   "cell_type": "code",
   "execution_count": 29,
   "metadata": {},
   "outputs": [
    {
     "name": "stdout",
     "output_type": "stream",
     "text": [
      "\n",
      "    Mission to Moon\n",
      "    Total travel time: 74 minutes\n",
      "    Total fuel left: 500000\n",
      "    tanque_int --> 300000 gallons left\n",
      "tanque_ext --> 200000 gallons left\n",
      "\n"
     ]
    }
   ],
   "source": [
    "def mission_report(destino, *minutos, **combustible):\n",
    "    main_report = f\"\"\"\n",
    "    Mission to {destino}\n",
    "    Total travel time: {sum(minutos)} minutes\n",
    "    Total fuel left: {sum(combustible.values())}\n",
    "    \"\"\"\n",
    "    for tanque_int, tanque_ext in combustible.items():\n",
    "        main_report += f\"{tanque_int} --> {tanque_ext} gallons left\\n\"\n",
    "    return main_report\n",
    "\n",
    "print(mission_report(\"Moon\", 8, 11, 55, tanque_int=300000, tanque_ext=200000))"
   ]
  }
 ],
 "metadata": {
  "interpreter": {
   "hash": "7050faed1200ade135b7d7beab2cf226877431b6724c1f9c588ed762c5f2d5fe"
  },
  "kernelspec": {
   "display_name": "Python 3.10.2 64-bit",
   "language": "python",
   "name": "python3"
  },
  "language_info": {
   "codemirror_mode": {
    "name": "ipython",
    "version": 3
   },
   "file_extension": ".py",
   "mimetype": "text/x-python",
   "name": "python",
   "nbconvert_exporter": "python",
   "pygments_lexer": "ipython3",
   "version": "3.10.2"
  },
  "orig_nbformat": 4
 },
 "nbformat": 4,
 "nbformat_minor": 2
}
